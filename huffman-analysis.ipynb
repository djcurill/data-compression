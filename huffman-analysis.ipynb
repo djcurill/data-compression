{
 "cells": [
  {
   "cell_type": "code",
   "execution_count": 70,
   "id": "6d1de9c4",
   "metadata": {},
   "outputs": [],
   "source": [
    "\n",
    "        \n",
    "        \n"
   ]
  },
  {
   "cell_type": "code",
   "execution_count": 71,
   "id": "79ee63ed",
   "metadata": {},
   "outputs": [],
   "source": [
    "tree = HoffmanTree(Dist(\"ABCDAABACDAD\"))"
   ]
  },
  {
   "cell_type": "code",
   "execution_count": 72,
   "id": "4ae7ae8c",
   "metadata": {},
   "outputs": [
    {
     "data": {
      "text/plain": [
       "{'A': '0', 'D': '10', 'C': '110', 'B': '111'}"
      ]
     },
     "execution_count": 72,
     "metadata": {},
     "output_type": "execute_result"
    }
   ],
   "source": [
    "tree.get_encoding_table()"
   ]
  },
  {
   "cell_type": "code",
   "execution_count": 64,
   "id": "58e4664e",
   "metadata": {},
   "outputs": [
    {
     "data": {
      "text/plain": [
       "3"
      ]
     },
     "execution_count": 64,
     "metadata": {},
     "output_type": "execute_result"
    }
   ],
   "source": [
    "x.pop()"
   ]
  },
  {
   "cell_type": "code",
   "execution_count": 57,
   "id": "3578f3c6",
   "metadata": {},
   "outputs": [
    {
     "data": {
      "text/plain": [
       "[Node(count=0.4166666666666667, symbol='A'),\n",
       " Node(count=0.25, symbol='D'),\n",
       " Node(count=0.16666666666666666, symbol='B'),\n",
       " Node(count=0.16666666666666666, symbol='C')]"
      ]
     },
     "execution_count": 57,
     "metadata": {},
     "output_type": "execute_result"
    }
   ],
   "source": [
    "sorted(nodes, reverse=True)"
   ]
  }
 ],
 "metadata": {
  "kernelspec": {
   "display_name": "Python 3 (ipykernel)",
   "language": "python",
   "name": "python3"
  },
  "language_info": {
   "codemirror_mode": {
    "name": "ipython",
    "version": 3
   },
   "file_extension": ".py",
   "mimetype": "text/x-python",
   "name": "python",
   "nbconvert_exporter": "python",
   "pygments_lexer": "ipython3",
   "version": "3.9.16"
  }
 },
 "nbformat": 4,
 "nbformat_minor": 5
}
