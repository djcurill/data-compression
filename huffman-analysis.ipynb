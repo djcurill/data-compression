{
 "cells": [
  {
   "cell_type": "code",
   "execution_count": 32,
   "id": "6d1de9c4",
   "metadata": {},
   "outputs": [],
   "source": [
    "from bitarray import bitarray\n",
    "from src.core.tree import HoffmanTree\n",
    "from src.lossless.encoders.hoffman_encoder import HuffmanEncoder\n",
    "from src.lossless.decoders.base_decoder import Decoder, Symbol\n",
    "from src.core.dist import Dist\n",
    "from typing import Tuple\n",
    "\n",
    "class HuffmanDecodingException(Exception):\n",
    "    \n",
    "    def __init__(self):\n",
    "        super().__init__(\"Unable to decode sequence of bits.\")\n",
    "\n",
    "class HuffmanDecoder(Decoder):\n",
    "\n",
    "    def __init__(self, tree:HoffmanTree):\n",
    "        self.tree = tree\n",
    "\n",
    "    def __call__(self, bits:bitarray, start:int=0) -> Tuple[Symbol, int]:\n",
    "        node = self.tree.root\n",
    "        if node is None:\n",
    "            raise ValueError(\"Cannot decode with empty Huffman Tree\")\n",
    "\n",
    "        pos = start\n",
    "        while not node.is_leaf_node():\n",
    "            bit = bits[pos]\n",
    "            node = node.left if bit == 0 else node.right\n",
    "            pos += 1\n",
    "            if node is None:\n",
    "                raise HuffmanDecodingException()\n",
    "        return node.symbol, pos"
   ]
  },
  {
   "cell_type": "code",
   "execution_count": 18,
   "id": "79ee63ed",
   "metadata": {},
   "outputs": [],
   "source": [
    "from typing import Iterable, Dict\n",
    "from src.core.node import Node\n",
    "from src.core.dist import Dist\n",
    "from bitarray import bitarray\n",
    "\n",
    "class HoffmanTree:\n",
    "\n",
    "    def __init__(self, dist:Dist):\n",
    "        self.root = self.create_tree(dist)\n",
    "        self._encoding_table = {}\n",
    "\n",
    "    @staticmethod\n",
    "    def create_tree(dist:Iterable) -> Node:\n",
    "        if not dist:\n",
    "            return\n",
    "        list_of_nodes = [Node(symbol=symbol, count=count) for symbol,count in dist.items()]\n",
    "        print(sorted(list_of_nodes, reverse=True))\n",
    "        while len(list_of_nodes) > 1:\n",
    "            list_of_nodes = sorted(list_of_nodes, reverse=True)\n",
    "            print(list_of_nodes)\n",
    "            n1 = list_of_nodes.pop()\n",
    "            n2 = list_of_nodes.pop()\n",
    "            merged_node = Node(symbol=\".\", count=n1.count + n2.count)\n",
    "            merged_node.left = n1\n",
    "            merged_node.right = n2\n",
    "            list_of_nodes.append(merged_node)\n",
    "            print(list_of_nodes)\n",
    "        return list_of_nodes.pop()\n",
    "\n",
    "    def get_encoding_table(self) -> Dict[str, bitarray]:\n",
    "        encoding_table = {}\n",
    "\n",
    "        def _dfs(tree:Node, code:str) -> None:\n",
    "            if tree.is_leaf_node():\n",
    "                # Must handle edge case where tree is only root node\n",
    "                code = code if code else \"0\"\n",
    "                encoding_table[tree.symbol] = bitarray(code)\n",
    "                return\n",
    "            if tree.left is not None:\n",
    "                _dfs(tree.left, code + \"0\")\n",
    "            if tree.right is not None:\n",
    "                _dfs(tree.right, code + \"1\")\n",
    "\n",
    "        if self.root is not None:\n",
    "            _dfs(self.root, code=\"\")\n",
    "        return encoding_table\n",
    "\n",
    "    def max_depth(self) -> int:\n",
    "        global max_depth\n",
    "        max_depth = 0\n",
    "        def _dfs(tree:Node, level:int) -> None:\n",
    "            if tree.is_leaf_node():\n",
    "                global max_depth\n",
    "                max_depth = max(level, max_depth)\n",
    "                return \n",
    "            if tree.left is not None:\n",
    "                _dfs(tree.left, level + 1)\n",
    "            if tree.right is not None:\n",
    "                _dfs(tree.right, level + 1)\n",
    "        if self.root is not None:\n",
    "            _dfs(self.root, 0)\n",
    "        return max_depth"
   ]
  },
  {
   "cell_type": "code",
   "execution_count": 27,
   "id": "4ae7ae8c",
   "metadata": {},
   "outputs": [
    {
     "name": "stdout",
     "output_type": "stream",
     "text": [
      "[Node(count=0.7, symbol='A'), Node(count=0.2, symbol='B'), Node(count=0.1, symbol='C')]\n",
      "[Node(count=0.7, symbol='A'), Node(count=0.2, symbol='B'), Node(count=0.1, symbol='C')]\n",
      "[Node(count=0.7, symbol='A'), Node(count=0.30000000000000004, symbol='.')]\n",
      "[Node(count=0.7, symbol='A'), Node(count=0.30000000000000004, symbol='.')]\n",
      "[Node(count=1.0, symbol='.')]\n"
     ]
    }
   ],
   "source": [
    "tree = HoffmanTree(Dist(\"AAAAAAABBC\"))"
   ]
  },
  {
   "cell_type": "code",
   "execution_count": 36,
   "id": "58e4664e",
   "metadata": {},
   "outputs": [
    {
     "data": {
      "text/plain": [
       "bitarray('00')"
      ]
     },
     "execution_count": 36,
     "metadata": {},
     "output_type": "execute_result"
    }
   ],
   "source": [
    "decoder = HuffmanDecoder(tree)\n",
    "encoder = HuffmanEncoder(Dist(\"AAAAAAABBC\"))\n",
    "\n",
    "encoder(\"A\")\n",
    "encoder(\"C\")"
   ]
  },
  {
   "cell_type": "code",
   "execution_count": 30,
   "id": "3578f3c6",
   "metadata": {},
   "outputs": [
    {
     "data": {
      "text/plain": [
       "{'C': bitarray('00'), 'B': bitarray('01'), 'A': bitarray('1')}"
      ]
     },
     "execution_count": 30,
     "metadata": {},
     "output_type": "execute_result"
    }
   ],
   "source": [
    "tree.get_encoding_table()"
   ]
  }
 ],
 "metadata": {
  "kernelspec": {
   "display_name": "Python 3 (ipykernel)",
   "language": "python",
   "name": "python3"
  },
  "language_info": {
   "codemirror_mode": {
    "name": "ipython",
    "version": 3
   },
   "file_extension": ".py",
   "mimetype": "text/x-python",
   "name": "python",
   "nbconvert_exporter": "python",
   "pygments_lexer": "ipython3",
   "version": "3.9.16"
  }
 },
 "nbformat": 4,
 "nbformat_minor": 5
}
